{
 "cells": [
  {
   "cell_type": "code",
   "execution_count": 1,
   "metadata": {},
   "outputs": [],
   "source": [
    "a=1"
   ]
  },
  {
   "cell_type": "code",
   "execution_count": 2,
   "metadata": {},
   "outputs": [],
   "source": [
    "b=1"
   ]
  },
  {
   "cell_type": "code",
   "execution_count": 5,
   "metadata": {},
   "outputs": [
    {
     "data": {
      "text/plain": [
       "array([[<matplotlib.axes._subplots.AxesSubplot object at 0x0000025D9BE7D2B0>,\n",
       "        <matplotlib.axes._subplots.AxesSubplot object at 0x0000025D9BEAF9E8>],\n",
       "       [<matplotlib.axes._subplots.AxesSubplot object at 0x0000025D9BEDCF98>,\n",
       "        <matplotlib.axes._subplots.AxesSubplot object at 0x0000025D9BF19588>]],\n",
       "      dtype=object)"
      ]
     },
     "execution_count": 5,
     "metadata": {},
     "output_type": "execute_result"
    },
    {
     "data": {
      "image/png": "[encoded data removed]",
      "text/plain": [
       "<Figure size 432x288 with 4 Axes>"
      ]
     },
     "metadata": {
      "needs_background": "light"
     },
     "output_type": "display_data"
    }
   ],
   "source": [
    "import pandas as pd \n",
    "import matplotlib.pyplot as plt \n",
    "  \n",
    "# create 2D array of table given above \n",
    "data = [['E001', 'M', 34, 123, 'Normal', 350], \n",
    "        ['E002', 'F', 40, 114, 'Overweight', 450], \n",
    "        ['E003', 'F', 37, 135, 'Obesity', 169], \n",
    "        ['E004', 'M', 30, 139, 'Underweight', 189], \n",
    "        ['E005', 'F', 44, 117, 'Underweight', 183], \n",
    "        ['E006', 'M', 36, 121, 'Normal', 80], \n",
    "        ['E007', 'M', 32, 133, 'Obesity', 166], \n",
    "        ['E008', 'F', 26, 140, 'Normal', 120], \n",
    "        ['E009', 'M', 32, 133, 'Normal', 75], \n",
    "        ['E010', 'M', 36, 133, 'Underweight', 40] ] \n",
    "  \n",
    "# dataframe created with \n",
    "# the above data array \n",
    "df = pd.DataFrame(data, columns = ['EMPID', 'Gender',  \n",
    "                                    'Age', 'Sales', \n",
    "                                    'BMI', 'Income'] ) \n",
    "  \n",
    "# create histogram for numeric data \n",
    "df.hist() \n",
    "  \n",
    "# show plot \n",
    "#plt.show()"
   ]
  },
  {
   "cell_type": "code",
   "execution_count": null,
   "metadata": {},
   "outputs": [],
   "source": []
  }
 ],
 "metadata": {
  "kernelspec": {
   "display_name": "Python 3",
   "language": "python",
   "name": "python3"
  },
  "language_info": {
   "codemirror_mode": {
    "name": "ipython",
    "version": 3
   },
   "file_extension": ".py",
   "mimetype": "text/x-python",
   "name": "python",
   "nbconvert_exporter": "python",
   "pygments_lexer": "ipython3",
   "version": "3.7.3"
  }
 },
 "nbformat": 4,
 "nbformat_minor": 2
}
